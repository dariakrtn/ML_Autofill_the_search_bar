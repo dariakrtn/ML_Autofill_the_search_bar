{
  "nbformat": 4,
  "nbformat_minor": 0,
  "metadata": {
    "colab": {
      "provenance": [],
      "mount_file_id": "1B9U3bp0ohWgoY7jkTBQyAfzOO1wm95BC",
      "authorship_tag": "ABX9TyOnm3XrUuyoJcBxhvPkURep",
      "include_colab_link": true
    },
    "kernelspec": {
      "name": "python3",
      "display_name": "Python 3"
    },
    "language_info": {
      "name": "python"
    }
  },
  "cells": [
    {
      "cell_type": "markdown",
      "metadata": {
        "id": "view-in-github",
        "colab_type": "text"
      },
      "source": [
        "<a href=\"https://colab.research.google.com/github/dariakrtn/ML_Autofill_the_search_bar/blob/main/delivery_automatic.ipynb\" target=\"_parent\"><img src=\"https://colab.research.google.com/assets/colab-badge.svg\" alt=\"Open In Colab\"/></a>"
      ]
    },
    {
      "cell_type": "code",
      "source": [],
      "metadata": {
        "id": "FcfNRQNisZ_X"
      },
      "execution_count": null,
      "outputs": []
    },
    {
      "cell_type": "code",
      "source": [
        "import os\n",
        "\n",
        "from IPython.display import clear_output\n",
        "\n",
        "collab_env = True\n",
        "if collab_env:\n",
        "    from google.colab import drive\n",
        "\n",
        "    ROOT_DIR = '/content/drive'\n",
        "    RANDOM_SEED = 42\n",
        "    drive.mount(ROOT_DIR)\n",
        "    root_data_dir = os.path.join(ROOT_DIR, 'MyDrive')\n",
        "else:\n",
        "    # in the case of local file systen\n",
        "    root_data_dir = '/srv/data/'\n",
        "\n",
        "clear_output()\n",
        "data_version = '2023_08_06'\n",
        "print()\n",
        "print(\"Content in root_data_dir %s:\\n%s\" % (root_data_dir, [i for i in os.listdir(root_data_dir)]))"
      ],
      "metadata": {
        "colab": {
          "base_uri": "https://localhost:8080/"
        },
        "id": "jn13Kp2-xXGK",
        "outputId": "4fad5812-bf86-4729-b8fe-bcfbc0ad10d3"
      },
      "execution_count": 27,
      "outputs": [
        {
          "output_type": "stream",
          "name": "stdout",
          "text": [
            "\n",
            "Content in root_data_dir /content/drive/MyDrive:\n",
            "['Доки', 'Ззз', 'Видео', 'Новая папка', 'Тикток', 'Colab Notebooks', 'Проект Проктор', 'МАИ', 'Gallery AR . apk', 'Видео Гарри Поттер', 'Мона Лиза', 'Подписчики.gsheet', 'анализ сотовой связи.gdoc', 'доход.gsheet', 'data_tw', 'data_sg']\n"
          ]
        }
      ]
    },
    {
      "cell_type": "code",
      "source": [
        "!ls /content/drive/MyDrive/data_sg"
      ],
      "metadata": {
        "colab": {
          "base_uri": "https://localhost:8080/"
        },
        "id": "4dXw9E_-sZ2E",
        "outputId": "34379ca0-472f-4497-a5fd-df55102cdb5a"
      },
      "execution_count": 18,
      "outputs": [
        {
          "output_type": "stream",
          "name": "stdout",
          "text": [
            "orders_sg_test.txt  orders_sg_train.txt  orders_sg.txt\tproducts_sg.txt  vendors_sg.txt\n"
          ]
        }
      ]
    },
    {
      "cell_type": "code",
      "source": [
        "import pandas as pd\n",
        "\n",
        "sample_products_data = (\n",
        "    pd.read_csv(\n",
        "        os.path.join(root_data_dir, 'data_sg', 'products_sg.txt'),\n",
        "        nrows=1000,\n",
        "        index_col=0\n",
        "    )\n",
        ")\n",
        "\n",
        "sample_products_data.head(10)"
      ],
      "metadata": {
        "colab": {
          "base_uri": "https://localhost:8080/",
          "height": 254
        },
        "id": "GSD6HjPxsTYQ",
        "outputId": "f44d785a-5bd8-4ff8-89e2-7db4b49140f1"
      },
      "execution_count": 1,
      "outputs": [
        {
          "output_type": "error",
          "ename": "NameError",
          "evalue": "ignored",
          "traceback": [
            "\u001b[0;31m---------------------------------------------------------------------------\u001b[0m",
            "\u001b[0;31mNameError\u001b[0m                                 Traceback (most recent call last)",
            "\u001b[0;32m<ipython-input-1-b482a5bf7952>\u001b[0m in \u001b[0;36m<cell line: 4>\u001b[0;34m()\u001b[0m\n\u001b[1;32m      3\u001b[0m sample_products_data = (\n\u001b[1;32m      4\u001b[0m     pd.read_csv(\n\u001b[0;32m----> 5\u001b[0;31m         \u001b[0mos\u001b[0m\u001b[0;34m.\u001b[0m\u001b[0mpath\u001b[0m\u001b[0;34m.\u001b[0m\u001b[0mjoin\u001b[0m\u001b[0;34m(\u001b[0m\u001b[0mroot_data_dir\u001b[0m\u001b[0;34m,\u001b[0m \u001b[0;34m'data_sg'\u001b[0m\u001b[0;34m,\u001b[0m \u001b[0;34m'products_sg.txt'\u001b[0m\u001b[0;34m)\u001b[0m\u001b[0;34m,\u001b[0m\u001b[0;34m\u001b[0m\u001b[0;34m\u001b[0m\u001b[0m\n\u001b[0m\u001b[1;32m      6\u001b[0m         \u001b[0mnrows\u001b[0m\u001b[0;34m=\u001b[0m\u001b[0;36m1000\u001b[0m\u001b[0;34m,\u001b[0m\u001b[0;34m\u001b[0m\u001b[0;34m\u001b[0m\u001b[0m\n\u001b[1;32m      7\u001b[0m         \u001b[0mindex_col\u001b[0m\u001b[0;34m=\u001b[0m\u001b[0;36m0\u001b[0m\u001b[0;34m\u001b[0m\u001b[0;34m\u001b[0m\u001b[0m\n",
            "\u001b[0;31mNameError\u001b[0m: name 'os' is not defined"
          ]
        }
      ]
    },
    {
      "cell_type": "code",
      "source": [
        "#@title Delivery Singapore\n",
        "\n",
        "search = None # @param {type:\"raw\"}\n",
        "search = None # @param [\"None\"] {type:\"raw\", allow-input: true}"
      ],
      "metadata": {
        "id": "S-u_9lrCx2Qn"
      },
      "execution_count": null,
      "outputs": []
    }
  ]
}