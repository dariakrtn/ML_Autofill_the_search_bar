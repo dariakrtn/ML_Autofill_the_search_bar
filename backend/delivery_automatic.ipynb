{
  "nbformat": 4,
  "nbformat_minor": 0,
  "metadata": {
    "colab": {
      "provenance": [],
      "gpuType": "T4",
      "mount_file_id": "1B9U3bp0ohWgoY7jkTBQyAfzOO1wm95BC",
      "authorship_tag": "ABX9TyM4VGQ/2lfm1jZAR2itKmJj",
      "include_colab_link": true
    },
    "kernelspec": {
      "name": "python3",
      "display_name": "Python 3"
    },
    "language_info": {
      "name": "python"
    },
    "accelerator": "GPU"
  },
  "cells": [
    {
      "cell_type": "markdown",
      "metadata": {
        "id": "view-in-github",
        "colab_type": "text"
      },
      "source": [
        "<a href=\"https://colab.research.google.com/github/dariakrtn/ML_Autofill_the_search_bar/blob/main/delivery_automatic.ipynb\" target=\"_parent\"><img src=\"https://colab.research.google.com/assets/colab-badge.svg\" alt=\"Open In Colab\"/></a>"
      ]
    },
    {
      "cell_type": "markdown",
      "source": [
        "## Exploratory data analysis"
      ],
      "metadata": {
        "id": "U_2VclzJSWLZ"
      }
    },
    {
      "cell_type": "code",
      "source": [
        "import numpy as np\n",
        "import pandas as pd\n",
        "import matplotlib.pyplot as plt\n",
        "import seaborn as sns\n",
        "\n",
        "import torch\n",
        "from torch.nn.utils.rnn import pad_sequence\n",
        "from torch.utils.data import Dataset\n",
        "import torch.nn.functional as F\n",
        "from torch.utils.data import DataLoader\n",
        "import torch.nn as nn\n",
        "from torch.nn.utils import clip_grad_norm_\n",
        "import torch.optim as optim\n",
        "\n",
        "from string import printable\n",
        "import re\n",
        "import os\n",
        "from IPython.display import clear_output\n"
      ],
      "metadata": {
        "id": "9wDQg_a_tWI6"
      },
      "execution_count": 1,
      "outputs": []
    },
    {
      "cell_type": "code",
      "source": [
        "collab_env = True\n",
        "if collab_env:\n",
        "    from google.colab import drive\n",
        "\n",
        "    ROOT_DIR = '/content/drive'\n",
        "    RANDOM_SEED = 42\n",
        "    drive.mount(ROOT_DIR)\n",
        "    DRIVE_DATA_DIR = 'ml_data'\n",
        "    root_data_dir = os.path.join(ROOT_DIR, 'MyDrive', DRIVE_DATA_DIR)\n",
        "else:\n",
        "    # in the case of local file systen\n",
        "    root_data_dir = '/srv/data/'\n",
        "\n",
        "clear_output()\n",
        "data_version = '2023_08_06'\n",
        "print()\n",
        "print(\"Content in root_data_dir %s:\\n%s\" % (root_data_dir, [i for i in os.listdir(root_data_dir)]))"
      ],
      "metadata": {
        "colab": {
          "base_uri": "https://localhost:8080/"
        },
        "id": "jn13Kp2-xXGK",
        "outputId": "f3447e1a-6373-41ea-c2e1-d80c4c7cae16"
      },
      "execution_count": 2,
      "outputs": [
        {
          "output_type": "stream",
          "name": "stdout",
          "text": [
            "\n",
            "Content in root_data_dir /content/drive/MyDrive/ml_data:\n",
            "['data_sg']\n"
          ]
        }
      ]
    },
    {
      "cell_type": "code",
      "source": [
        "!ls /content/drive/MyDrive/data_sg"
      ],
      "metadata": {
        "colab": {
          "base_uri": "https://localhost:8080/"
        },
        "id": "4dXw9E_-sZ2E",
        "outputId": "7d3b2e5f-205c-4e84-8b96-1bd0d226b3db"
      },
      "execution_count": 3,
      "outputs": [
        {
          "output_type": "stream",
          "name": "stdout",
          "text": [
            "ls: cannot access '/content/drive/MyDrive/data_sg': No such file or directory\n"
          ]
        }
      ]
    },
    {
      "cell_type": "code",
      "source": [
        "products_data_full = (\n",
        "    pd.read_csv(\n",
        "        os.path.join(root_data_dir, 'data_sg', 'products_sg.txt'),\n",
        "        index_col=0\n",
        "    )\n",
        ")\n",
        "\n",
        "products_data_full.head(10)"
      ],
      "metadata": {
        "colab": {
          "base_uri": "https://localhost:8080/",
          "height": 363
        },
        "id": "GSD6HjPxsTYQ",
        "outputId": "a627b0c1-415e-4401-9e29-4ce839ade2a5"
      },
      "execution_count": 4,
      "outputs": [
        {
          "output_type": "execute_result",
          "data": {
            "text/plain": [
              "  vendor_id    product_id                                            name  \\\n",
              "0  15bbf316  59099e089514                       Meat & Seafood Combo 海鲜套餐   \n",
              "1  e7b24dc0  52e1017fdbd9                      Sausage Egg McMuffin® Meal   \n",
              "2  e7b24dc0  fcb7110cd932             Scrambled Egg Burger w Chicken Meal   \n",
              "3  7112a20b  d3e7708c2bc9                                    Maguro Sushi   \n",
              "4  6137ef21  bf0d5ac0e03c  Family Meal - Prosp Chic TwLEVMx2 + ChBurgerHM   \n",
              "5  6fb36d6f  b40fab1ad16c                           Deep-fried Squid 炸苏东仔   \n",
              "6  cf5624ba  cd353b5f4d36                   Braised Bean Curd Soup 金汤黄焖鱼腐   \n",
              "7  590b8f67  a5d5c3ef8927                                    Garlic Bread   \n",
              "8  e173c5ad  1f348eecfae2         Grilled Cheese Abalone and Aburi Salmon   \n",
              "9  7f84f917  5ea2fec17811                                      Cappuccino   \n",
              "\n",
              "   unit_price  \n",
              "0      0.0036  \n",
              "1      0.0024  \n",
              "2      0.0024  \n",
              "3      0.0012  \n",
              "4      0.0100  \n",
              "5      0.0068  \n",
              "6      0.0060  \n",
              "7      0.0004  \n",
              "8      0.0040  \n",
              "9      0.0024  "
            ],
            "text/html": [
              "\n",
              "  <div id=\"df-dab5115e-892e-4a21-bb5a-40650ad59f72\" class=\"colab-df-container\">\n",
              "    <div>\n",
              "<style scoped>\n",
              "    .dataframe tbody tr th:only-of-type {\n",
              "        vertical-align: middle;\n",
              "    }\n",
              "\n",
              "    .dataframe tbody tr th {\n",
              "        vertical-align: top;\n",
              "    }\n",
              "\n",
              "    .dataframe thead th {\n",
              "        text-align: right;\n",
              "    }\n",
              "</style>\n",
              "<table border=\"1\" class=\"dataframe\">\n",
              "  <thead>\n",
              "    <tr style=\"text-align: right;\">\n",
              "      <th></th>\n",
              "      <th>vendor_id</th>\n",
              "      <th>product_id</th>\n",
              "      <th>name</th>\n",
              "      <th>unit_price</th>\n",
              "    </tr>\n",
              "  </thead>\n",
              "  <tbody>\n",
              "    <tr>\n",
              "      <th>0</th>\n",
              "      <td>15bbf316</td>\n",
              "      <td>59099e089514</td>\n",
              "      <td>Meat &amp; Seafood Combo 海鲜套餐</td>\n",
              "      <td>0.0036</td>\n",
              "    </tr>\n",
              "    <tr>\n",
              "      <th>1</th>\n",
              "      <td>e7b24dc0</td>\n",
              "      <td>52e1017fdbd9</td>\n",
              "      <td>Sausage Egg McMuffin® Meal</td>\n",
              "      <td>0.0024</td>\n",
              "    </tr>\n",
              "    <tr>\n",
              "      <th>2</th>\n",
              "      <td>e7b24dc0</td>\n",
              "      <td>fcb7110cd932</td>\n",
              "      <td>Scrambled Egg Burger w Chicken Meal</td>\n",
              "      <td>0.0024</td>\n",
              "    </tr>\n",
              "    <tr>\n",
              "      <th>3</th>\n",
              "      <td>7112a20b</td>\n",
              "      <td>d3e7708c2bc9</td>\n",
              "      <td>Maguro Sushi</td>\n",
              "      <td>0.0012</td>\n",
              "    </tr>\n",
              "    <tr>\n",
              "      <th>4</th>\n",
              "      <td>6137ef21</td>\n",
              "      <td>bf0d5ac0e03c</td>\n",
              "      <td>Family Meal - Prosp Chic TwLEVMx2 + ChBurgerHM</td>\n",
              "      <td>0.0100</td>\n",
              "    </tr>\n",
              "    <tr>\n",
              "      <th>5</th>\n",
              "      <td>6fb36d6f</td>\n",
              "      <td>b40fab1ad16c</td>\n",
              "      <td>Deep-fried Squid 炸苏东仔</td>\n",
              "      <td>0.0068</td>\n",
              "    </tr>\n",
              "    <tr>\n",
              "      <th>6</th>\n",
              "      <td>cf5624ba</td>\n",
              "      <td>cd353b5f4d36</td>\n",
              "      <td>Braised Bean Curd Soup 金汤黄焖鱼腐</td>\n",
              "      <td>0.0060</td>\n",
              "    </tr>\n",
              "    <tr>\n",
              "      <th>7</th>\n",
              "      <td>590b8f67</td>\n",
              "      <td>a5d5c3ef8927</td>\n",
              "      <td>Garlic Bread</td>\n",
              "      <td>0.0004</td>\n",
              "    </tr>\n",
              "    <tr>\n",
              "      <th>8</th>\n",
              "      <td>e173c5ad</td>\n",
              "      <td>1f348eecfae2</td>\n",
              "      <td>Grilled Cheese Abalone and Aburi Salmon</td>\n",
              "      <td>0.0040</td>\n",
              "    </tr>\n",
              "    <tr>\n",
              "      <th>9</th>\n",
              "      <td>7f84f917</td>\n",
              "      <td>5ea2fec17811</td>\n",
              "      <td>Cappuccino</td>\n",
              "      <td>0.0024</td>\n",
              "    </tr>\n",
              "  </tbody>\n",
              "</table>\n",
              "</div>\n",
              "    <div class=\"colab-df-buttons\">\n",
              "\n",
              "  <div class=\"colab-df-container\">\n",
              "    <button class=\"colab-df-convert\" onclick=\"convertToInteractive('df-dab5115e-892e-4a21-bb5a-40650ad59f72')\"\n",
              "            title=\"Convert this dataframe to an interactive table.\"\n",
              "            style=\"display:none;\">\n",
              "\n",
              "  <svg xmlns=\"http://www.w3.org/2000/svg\" height=\"24px\" viewBox=\"0 -960 960 960\">\n",
              "    <path d=\"M120-120v-720h720v720H120Zm60-500h600v-160H180v160Zm220 220h160v-160H400v160Zm0 220h160v-160H400v160ZM180-400h160v-160H180v160Zm440 0h160v-160H620v160ZM180-180h160v-160H180v160Zm440 0h160v-160H620v160Z\"/>\n",
              "  </svg>\n",
              "    </button>\n",
              "\n",
              "  <style>\n",
              "    .colab-df-container {\n",
              "      display:flex;\n",
              "      gap: 12px;\n",
              "    }\n",
              "\n",
              "    .colab-df-convert {\n",
              "      background-color: #E8F0FE;\n",
              "      border: none;\n",
              "      border-radius: 50%;\n",
              "      cursor: pointer;\n",
              "      display: none;\n",
              "      fill: #1967D2;\n",
              "      height: 32px;\n",
              "      padding: 0 0 0 0;\n",
              "      width: 32px;\n",
              "    }\n",
              "\n",
              "    .colab-df-convert:hover {\n",
              "      background-color: #E2EBFA;\n",
              "      box-shadow: 0px 1px 2px rgba(60, 64, 67, 0.3), 0px 1px 3px 1px rgba(60, 64, 67, 0.15);\n",
              "      fill: #174EA6;\n",
              "    }\n",
              "\n",
              "    .colab-df-buttons div {\n",
              "      margin-bottom: 4px;\n",
              "    }\n",
              "\n",
              "    [theme=dark] .colab-df-convert {\n",
              "      background-color: #3B4455;\n",
              "      fill: #D2E3FC;\n",
              "    }\n",
              "\n",
              "    [theme=dark] .colab-df-convert:hover {\n",
              "      background-color: #434B5C;\n",
              "      box-shadow: 0px 1px 3px 1px rgba(0, 0, 0, 0.15);\n",
              "      filter: drop-shadow(0px 1px 2px rgba(0, 0, 0, 0.3));\n",
              "      fill: #FFFFFF;\n",
              "    }\n",
              "  </style>\n",
              "\n",
              "    <script>\n",
              "      const buttonEl =\n",
              "        document.querySelector('#df-dab5115e-892e-4a21-bb5a-40650ad59f72 button.colab-df-convert');\n",
              "      buttonEl.style.display =\n",
              "        google.colab.kernel.accessAllowed ? 'block' : 'none';\n",
              "\n",
              "      async function convertToInteractive(key) {\n",
              "        const element = document.querySelector('#df-dab5115e-892e-4a21-bb5a-40650ad59f72');\n",
              "        const dataTable =\n",
              "          await google.colab.kernel.invokeFunction('convertToInteractive',\n",
              "                                                    [key], {});\n",
              "        if (!dataTable) return;\n",
              "\n",
              "        const docLinkHtml = 'Like what you see? Visit the ' +\n",
              "          '<a target=\"_blank\" href=https://colab.research.google.com/notebooks/data_table.ipynb>data table notebook</a>'\n",
              "          + ' to learn more about interactive tables.';\n",
              "        element.innerHTML = '';\n",
              "        dataTable['output_type'] = 'display_data';\n",
              "        await google.colab.output.renderOutput(dataTable, element);\n",
              "        const docLink = document.createElement('div');\n",
              "        docLink.innerHTML = docLinkHtml;\n",
              "        element.appendChild(docLink);\n",
              "      }\n",
              "    </script>\n",
              "  </div>\n",
              "\n",
              "\n",
              "<div id=\"df-acb3d146-b318-4622-9a1b-5b0a70bbabb5\">\n",
              "  <button class=\"colab-df-quickchart\" onclick=\"quickchart('df-acb3d146-b318-4622-9a1b-5b0a70bbabb5')\"\n",
              "            title=\"Suggest charts\"\n",
              "            style=\"display:none;\">\n",
              "\n",
              "<svg xmlns=\"http://www.w3.org/2000/svg\" height=\"24px\"viewBox=\"0 0 24 24\"\n",
              "     width=\"24px\">\n",
              "    <g>\n",
              "        <path d=\"M19 3H5c-1.1 0-2 .9-2 2v14c0 1.1.9 2 2 2h14c1.1 0 2-.9 2-2V5c0-1.1-.9-2-2-2zM9 17H7v-7h2v7zm4 0h-2V7h2v10zm4 0h-2v-4h2v4z\"/>\n",
              "    </g>\n",
              "</svg>\n",
              "  </button>\n",
              "\n",
              "<style>\n",
              "  .colab-df-quickchart {\n",
              "      --bg-color: #E8F0FE;\n",
              "      --fill-color: #1967D2;\n",
              "      --hover-bg-color: #E2EBFA;\n",
              "      --hover-fill-color: #174EA6;\n",
              "      --disabled-fill-color: #AAA;\n",
              "      --disabled-bg-color: #DDD;\n",
              "  }\n",
              "\n",
              "  [theme=dark] .colab-df-quickchart {\n",
              "      --bg-color: #3B4455;\n",
              "      --fill-color: #D2E3FC;\n",
              "      --hover-bg-color: #434B5C;\n",
              "      --hover-fill-color: #FFFFFF;\n",
              "      --disabled-bg-color: #3B4455;\n",
              "      --disabled-fill-color: #666;\n",
              "  }\n",
              "\n",
              "  .colab-df-quickchart {\n",
              "    background-color: var(--bg-color);\n",
              "    border: none;\n",
              "    border-radius: 50%;\n",
              "    cursor: pointer;\n",
              "    display: none;\n",
              "    fill: var(--fill-color);\n",
              "    height: 32px;\n",
              "    padding: 0;\n",
              "    width: 32px;\n",
              "  }\n",
              "\n",
              "  .colab-df-quickchart:hover {\n",
              "    background-color: var(--hover-bg-color);\n",
              "    box-shadow: 0 1px 2px rgba(60, 64, 67, 0.3), 0 1px 3px 1px rgba(60, 64, 67, 0.15);\n",
              "    fill: var(--button-hover-fill-color);\n",
              "  }\n",
              "\n",
              "  .colab-df-quickchart-complete:disabled,\n",
              "  .colab-df-quickchart-complete:disabled:hover {\n",
              "    background-color: var(--disabled-bg-color);\n",
              "    fill: var(--disabled-fill-color);\n",
              "    box-shadow: none;\n",
              "  }\n",
              "\n",
              "  .colab-df-spinner {\n",
              "    border: 2px solid var(--fill-color);\n",
              "    border-color: transparent;\n",
              "    border-bottom-color: var(--fill-color);\n",
              "    animation:\n",
              "      spin 1s steps(1) infinite;\n",
              "  }\n",
              "\n",
              "  @keyframes spin {\n",
              "    0% {\n",
              "      border-color: transparent;\n",
              "      border-bottom-color: var(--fill-color);\n",
              "      border-left-color: var(--fill-color);\n",
              "    }\n",
              "    20% {\n",
              "      border-color: transparent;\n",
              "      border-left-color: var(--fill-color);\n",
              "      border-top-color: var(--fill-color);\n",
              "    }\n",
              "    30% {\n",
              "      border-color: transparent;\n",
              "      border-left-color: var(--fill-color);\n",
              "      border-top-color: var(--fill-color);\n",
              "      border-right-color: var(--fill-color);\n",
              "    }\n",
              "    40% {\n",
              "      border-color: transparent;\n",
              "      border-right-color: var(--fill-color);\n",
              "      border-top-color: var(--fill-color);\n",
              "    }\n",
              "    60% {\n",
              "      border-color: transparent;\n",
              "      border-right-color: var(--fill-color);\n",
              "    }\n",
              "    80% {\n",
              "      border-color: transparent;\n",
              "      border-right-color: var(--fill-color);\n",
              "      border-bottom-color: var(--fill-color);\n",
              "    }\n",
              "    90% {\n",
              "      border-color: transparent;\n",
              "      border-bottom-color: var(--fill-color);\n",
              "    }\n",
              "  }\n",
              "</style>\n",
              "\n",
              "  <script>\n",
              "    async function quickchart(key) {\n",
              "      const quickchartButtonEl =\n",
              "        document.querySelector('#' + key + ' button');\n",
              "      quickchartButtonEl.disabled = true;  // To prevent multiple clicks.\n",
              "      quickchartButtonEl.classList.add('colab-df-spinner');\n",
              "      try {\n",
              "        const charts = await google.colab.kernel.invokeFunction(\n",
              "            'suggestCharts', [key], {});\n",
              "      } catch (error) {\n",
              "        console.error('Error during call to suggestCharts:', error);\n",
              "      }\n",
              "      quickchartButtonEl.classList.remove('colab-df-spinner');\n",
              "      quickchartButtonEl.classList.add('colab-df-quickchart-complete');\n",
              "    }\n",
              "    (() => {\n",
              "      let quickchartButtonEl =\n",
              "        document.querySelector('#df-acb3d146-b318-4622-9a1b-5b0a70bbabb5 button');\n",
              "      quickchartButtonEl.style.display =\n",
              "        google.colab.kernel.accessAllowed ? 'block' : 'none';\n",
              "    })();\n",
              "  </script>\n",
              "</div>\n",
              "    </div>\n",
              "  </div>\n"
            ]
          },
          "metadata": {},
          "execution_count": 4
        }
      ]
    },
    {
      "cell_type": "code",
      "source": [
        "products_data_full.isna().sum()"
      ],
      "metadata": {
        "colab": {
          "base_uri": "https://localhost:8080/"
        },
        "id": "EHPTTUU9pew8",
        "outputId": "b552ed20-285c-47bb-86d9-8c14e99896a5"
      },
      "execution_count": 5,
      "outputs": [
        {
          "output_type": "execute_result",
          "data": {
            "text/plain": [
              "vendor_id     0\n",
              "product_id    0\n",
              "name          0\n",
              "unit_price    0\n",
              "dtype: int64"
            ]
          },
          "metadata": {},
          "execution_count": 5
        }
      ]
    },
    {
      "cell_type": "code",
      "source": [
        "products_data_full[\"name\"].value_counts()"
      ],
      "metadata": {
        "colab": {
          "base_uri": "https://localhost:8080/"
        },
        "id": "Uvm9vA_BqD8U",
        "outputId": "43a34120-b36e-4698-cd04-1b4b7c3cc522"
      },
      "execution_count": 6,
      "outputs": [
        {
          "output_type": "execute_result",
          "data": {
            "text/plain": [
              "Coke                                               1685\n",
              "Sprite                                             1441\n",
              "Cutlery - No                                       1173\n",
              "Large                                              1100\n",
              "Medium                                             1046\n",
              "                                                   ... \n",
              "Dead Guy Ale                                          1\n",
              "1082. Green Curry Fried Rice 绿咖喱炒饭                    1\n",
              "鱼香肉丝 Shredded Pork & Sweet & Sour Sauce               1\n",
              "1072. Fried Cabbage with Chinese Mushroom 包菜炒香菇       1\n",
              "Gula Melaka Sago 椰糖西米露                                1\n",
              "Name: name, Length: 274915, dtype: int64"
            ]
          },
          "metadata": {},
          "execution_count": 6
        }
      ]
    },
    {
      "cell_type": "code",
      "source": [
        "products_data_full.shape"
      ],
      "metadata": {
        "colab": {
          "base_uri": "https://localhost:8080/"
        },
        "id": "apLM4oasCQog",
        "outputId": "57fc6a89-c627-408d-c56f-c6171e53d7df"
      },
      "execution_count": 8,
      "outputs": [
        {
          "output_type": "execute_result",
          "data": {
            "text/plain": [
              "(1066840, 4)"
            ]
          },
          "metadata": {},
          "execution_count": 8
        }
      ]
    },
    {
      "cell_type": "code",
      "source": [
        "products_data_full.info()"
      ],
      "metadata": {
        "colab": {
          "base_uri": "https://localhost:8080/"
        },
        "id": "v2wpf_5WChCg",
        "outputId": "8045082d-c097-480c-edf8-83774eb35b07"
      },
      "execution_count": 9,
      "outputs": [
        {
          "output_type": "stream",
          "name": "stdout",
          "text": [
            "<class 'pandas.core.frame.DataFrame'>\n",
            "Int64Index: 1066840 entries, 0 to 1066839\n",
            "Data columns (total 4 columns):\n",
            " #   Column      Non-Null Count    Dtype  \n",
            "---  ------      --------------    -----  \n",
            " 0   vendor_id   1066840 non-null  object \n",
            " 1   product_id  1066840 non-null  object \n",
            " 2   name        1066840 non-null  object \n",
            " 3   unit_price  1066840 non-null  float64\n",
            "dtypes: float64(1), object(3)\n",
            "memory usage: 40.7+ MB\n"
          ]
        }
      ]
    },
    {
      "cell_type": "code",
      "source": [
        "products_data_full.nunique()"
      ],
      "metadata": {
        "colab": {
          "base_uri": "https://localhost:8080/"
        },
        "id": "fJL6WsNkCw7X",
        "outputId": "982655b6-6614-4289-c126-23dc2bf58449"
      },
      "execution_count": 11,
      "outputs": [
        {
          "output_type": "execute_result",
          "data": {
            "text/plain": [
              "vendor_id        7411\n",
              "product_id    1066823\n",
              "name           274915\n",
              "unit_price        446\n",
              "dtype: int64"
            ]
          },
          "metadata": {},
          "execution_count": 11
        }
      ]
    },
    {
      "cell_type": "code",
      "source": [
        "data_uniq_product = products_data_full.drop_duplicates(subset='name')\n",
        "data_uniq_product.head(10)"
      ],
      "metadata": {
        "colab": {
          "base_uri": "https://localhost:8080/",
          "height": 363
        },
        "id": "mGbzDUiadFHV",
        "outputId": "f07af7db-d8c6-4da8-95ba-200394658d7e"
      },
      "execution_count": 27,
      "outputs": [
        {
          "output_type": "execute_result",
          "data": {
            "text/plain": [
              "  vendor_id    product_id                                            name  \\\n",
              "0  15bbf316  59099e089514                       Meat & Seafood Combo 海鲜套餐   \n",
              "1  e7b24dc0  52e1017fdbd9                      Sausage Egg McMuffin® Meal   \n",
              "2  e7b24dc0  fcb7110cd932             Scrambled Egg Burger w Chicken Meal   \n",
              "3  7112a20b  d3e7708c2bc9                                    Maguro Sushi   \n",
              "4  6137ef21  bf0d5ac0e03c  Family Meal - Prosp Chic TwLEVMx2 + ChBurgerHM   \n",
              "5  6fb36d6f  b40fab1ad16c                           Deep-fried Squid 炸苏东仔   \n",
              "6  cf5624ba  cd353b5f4d36                   Braised Bean Curd Soup 金汤黄焖鱼腐   \n",
              "7  590b8f67  a5d5c3ef8927                                    Garlic Bread   \n",
              "8  e173c5ad  1f348eecfae2         Grilled Cheese Abalone and Aburi Salmon   \n",
              "9  7f84f917  5ea2fec17811                                      Cappuccino   \n",
              "\n",
              "   unit_price  \n",
              "0      0.0036  \n",
              "1      0.0024  \n",
              "2      0.0024  \n",
              "3      0.0012  \n",
              "4      0.0100  \n",
              "5      0.0068  \n",
              "6      0.0060  \n",
              "7      0.0004  \n",
              "8      0.0040  \n",
              "9      0.0024  "
            ],
            "text/html": [
              "\n",
              "  <div id=\"df-d93b289e-f44a-4da6-87a8-d017ee2929ca\" class=\"colab-df-container\">\n",
              "    <div>\n",
              "<style scoped>\n",
              "    .dataframe tbody tr th:only-of-type {\n",
              "        vertical-align: middle;\n",
              "    }\n",
              "\n",
              "    .dataframe tbody tr th {\n",
              "        vertical-align: top;\n",
              "    }\n",
              "\n",
              "    .dataframe thead th {\n",
              "        text-align: right;\n",
              "    }\n",
              "</style>\n",
              "<table border=\"1\" class=\"dataframe\">\n",
              "  <thead>\n",
              "    <tr style=\"text-align: right;\">\n",
              "      <th></th>\n",
              "      <th>vendor_id</th>\n",
              "      <th>product_id</th>\n",
              "      <th>name</th>\n",
              "      <th>unit_price</th>\n",
              "    </tr>\n",
              "  </thead>\n",
              "  <tbody>\n",
              "    <tr>\n",
              "      <th>0</th>\n",
              "      <td>15bbf316</td>\n",
              "      <td>59099e089514</td>\n",
              "      <td>Meat &amp; Seafood Combo 海鲜套餐</td>\n",
              "      <td>0.0036</td>\n",
              "    </tr>\n",
              "    <tr>\n",
              "      <th>1</th>\n",
              "      <td>e7b24dc0</td>\n",
              "      <td>52e1017fdbd9</td>\n",
              "      <td>Sausage Egg McMuffin® Meal</td>\n",
              "      <td>0.0024</td>\n",
              "    </tr>\n",
              "    <tr>\n",
              "      <th>2</th>\n",
              "      <td>e7b24dc0</td>\n",
              "      <td>fcb7110cd932</td>\n",
              "      <td>Scrambled Egg Burger w Chicken Meal</td>\n",
              "      <td>0.0024</td>\n",
              "    </tr>\n",
              "    <tr>\n",
              "      <th>3</th>\n",
              "      <td>7112a20b</td>\n",
              "      <td>d3e7708c2bc9</td>\n",
              "      <td>Maguro Sushi</td>\n",
              "      <td>0.0012</td>\n",
              "    </tr>\n",
              "    <tr>\n",
              "      <th>4</th>\n",
              "      <td>6137ef21</td>\n",
              "      <td>bf0d5ac0e03c</td>\n",
              "      <td>Family Meal - Prosp Chic TwLEVMx2 + ChBurgerHM</td>\n",
              "      <td>0.0100</td>\n",
              "    </tr>\n",
              "    <tr>\n",
              "      <th>5</th>\n",
              "      <td>6fb36d6f</td>\n",
              "      <td>b40fab1ad16c</td>\n",
              "      <td>Deep-fried Squid 炸苏东仔</td>\n",
              "      <td>0.0068</td>\n",
              "    </tr>\n",
              "    <tr>\n",
              "      <th>6</th>\n",
              "      <td>cf5624ba</td>\n",
              "      <td>cd353b5f4d36</td>\n",
              "      <td>Braised Bean Curd Soup 金汤黄焖鱼腐</td>\n",
              "      <td>0.0060</td>\n",
              "    </tr>\n",
              "    <tr>\n",
              "      <th>7</th>\n",
              "      <td>590b8f67</td>\n",
              "      <td>a5d5c3ef8927</td>\n",
              "      <td>Garlic Bread</td>\n",
              "      <td>0.0004</td>\n",
              "    </tr>\n",
              "    <tr>\n",
              "      <th>8</th>\n",
              "      <td>e173c5ad</td>\n",
              "      <td>1f348eecfae2</td>\n",
              "      <td>Grilled Cheese Abalone and Aburi Salmon</td>\n",
              "      <td>0.0040</td>\n",
              "    </tr>\n",
              "    <tr>\n",
              "      <th>9</th>\n",
              "      <td>7f84f917</td>\n",
              "      <td>5ea2fec17811</td>\n",
              "      <td>Cappuccino</td>\n",
              "      <td>0.0024</td>\n",
              "    </tr>\n",
              "  </tbody>\n",
              "</table>\n",
              "</div>\n",
              "    <div class=\"colab-df-buttons\">\n",
              "\n",
              "  <div class=\"colab-df-container\">\n",
              "    <button class=\"colab-df-convert\" onclick=\"convertToInteractive('df-d93b289e-f44a-4da6-87a8-d017ee2929ca')\"\n",
              "            title=\"Convert this dataframe to an interactive table.\"\n",
              "            style=\"display:none;\">\n",
              "\n",
              "  <svg xmlns=\"http://www.w3.org/2000/svg\" height=\"24px\" viewBox=\"0 -960 960 960\">\n",
              "    <path d=\"M120-120v-720h720v720H120Zm60-500h600v-160H180v160Zm220 220h160v-160H400v160Zm0 220h160v-160H400v160ZM180-400h160v-160H180v160Zm440 0h160v-160H620v160ZM180-180h160v-160H180v160Zm440 0h160v-160H620v160Z\"/>\n",
              "  </svg>\n",
              "    </button>\n",
              "\n",
              "  <style>\n",
              "    .colab-df-container {\n",
              "      display:flex;\n",
              "      gap: 12px;\n",
              "    }\n",
              "\n",
              "    .colab-df-convert {\n",
              "      background-color: #E8F0FE;\n",
              "      border: none;\n",
              "      border-radius: 50%;\n",
              "      cursor: pointer;\n",
              "      display: none;\n",
              "      fill: #1967D2;\n",
              "      height: 32px;\n",
              "      padding: 0 0 0 0;\n",
              "      width: 32px;\n",
              "    }\n",
              "\n",
              "    .colab-df-convert:hover {\n",
              "      background-color: #E2EBFA;\n",
              "      box-shadow: 0px 1px 2px rgba(60, 64, 67, 0.3), 0px 1px 3px 1px rgba(60, 64, 67, 0.15);\n",
              "      fill: #174EA6;\n",
              "    }\n",
              "\n",
              "    .colab-df-buttons div {\n",
              "      margin-bottom: 4px;\n",
              "    }\n",
              "\n",
              "    [theme=dark] .colab-df-convert {\n",
              "      background-color: #3B4455;\n",
              "      fill: #D2E3FC;\n",
              "    }\n",
              "\n",
              "    [theme=dark] .colab-df-convert:hover {\n",
              "      background-color: #434B5C;\n",
              "      box-shadow: 0px 1px 3px 1px rgba(0, 0, 0, 0.15);\n",
              "      filter: drop-shadow(0px 1px 2px rgba(0, 0, 0, 0.3));\n",
              "      fill: #FFFFFF;\n",
              "    }\n",
              "  </style>\n",
              "\n",
              "    <script>\n",
              "      const buttonEl =\n",
              "        document.querySelector('#df-d93b289e-f44a-4da6-87a8-d017ee2929ca button.colab-df-convert');\n",
              "      buttonEl.style.display =\n",
              "        google.colab.kernel.accessAllowed ? 'block' : 'none';\n",
              "\n",
              "      async function convertToInteractive(key) {\n",
              "        const element = document.querySelector('#df-d93b289e-f44a-4da6-87a8-d017ee2929ca');\n",
              "        const dataTable =\n",
              "          await google.colab.kernel.invokeFunction('convertToInteractive',\n",
              "                                                    [key], {});\n",
              "        if (!dataTable) return;\n",
              "\n",
              "        const docLinkHtml = 'Like what you see? Visit the ' +\n",
              "          '<a target=\"_blank\" href=https://colab.research.google.com/notebooks/data_table.ipynb>data table notebook</a>'\n",
              "          + ' to learn more about interactive tables.';\n",
              "        element.innerHTML = '';\n",
              "        dataTable['output_type'] = 'display_data';\n",
              "        await google.colab.output.renderOutput(dataTable, element);\n",
              "        const docLink = document.createElement('div');\n",
              "        docLink.innerHTML = docLinkHtml;\n",
              "        element.appendChild(docLink);\n",
              "      }\n",
              "    </script>\n",
              "  </div>\n",
              "\n",
              "\n",
              "<div id=\"df-f8f8bd54-e750-42e5-9d2a-da7788e11e4e\">\n",
              "  <button class=\"colab-df-quickchart\" onclick=\"quickchart('df-f8f8bd54-e750-42e5-9d2a-da7788e11e4e')\"\n",
              "            title=\"Suggest charts\"\n",
              "            style=\"display:none;\">\n",
              "\n",
              "<svg xmlns=\"http://www.w3.org/2000/svg\" height=\"24px\"viewBox=\"0 0 24 24\"\n",
              "     width=\"24px\">\n",
              "    <g>\n",
              "        <path d=\"M19 3H5c-1.1 0-2 .9-2 2v14c0 1.1.9 2 2 2h14c1.1 0 2-.9 2-2V5c0-1.1-.9-2-2-2zM9 17H7v-7h2v7zm4 0h-2V7h2v10zm4 0h-2v-4h2v4z\"/>\n",
              "    </g>\n",
              "</svg>\n",
              "  </button>\n",
              "\n",
              "<style>\n",
              "  .colab-df-quickchart {\n",
              "      --bg-color: #E8F0FE;\n",
              "      --fill-color: #1967D2;\n",
              "      --hover-bg-color: #E2EBFA;\n",
              "      --hover-fill-color: #174EA6;\n",
              "      --disabled-fill-color: #AAA;\n",
              "      --disabled-bg-color: #DDD;\n",
              "  }\n",
              "\n",
              "  [theme=dark] .colab-df-quickchart {\n",
              "      --bg-color: #3B4455;\n",
              "      --fill-color: #D2E3FC;\n",
              "      --hover-bg-color: #434B5C;\n",
              "      --hover-fill-color: #FFFFFF;\n",
              "      --disabled-bg-color: #3B4455;\n",
              "      --disabled-fill-color: #666;\n",
              "  }\n",
              "\n",
              "  .colab-df-quickchart {\n",
              "    background-color: var(--bg-color);\n",
              "    border: none;\n",
              "    border-radius: 50%;\n",
              "    cursor: pointer;\n",
              "    display: none;\n",
              "    fill: var(--fill-color);\n",
              "    height: 32px;\n",
              "    padding: 0;\n",
              "    width: 32px;\n",
              "  }\n",
              "\n",
              "  .colab-df-quickchart:hover {\n",
              "    background-color: var(--hover-bg-color);\n",
              "    box-shadow: 0 1px 2px rgba(60, 64, 67, 0.3), 0 1px 3px 1px rgba(60, 64, 67, 0.15);\n",
              "    fill: var(--button-hover-fill-color);\n",
              "  }\n",
              "\n",
              "  .colab-df-quickchart-complete:disabled,\n",
              "  .colab-df-quickchart-complete:disabled:hover {\n",
              "    background-color: var(--disabled-bg-color);\n",
              "    fill: var(--disabled-fill-color);\n",
              "    box-shadow: none;\n",
              "  }\n",
              "\n",
              "  .colab-df-spinner {\n",
              "    border: 2px solid var(--fill-color);\n",
              "    border-color: transparent;\n",
              "    border-bottom-color: var(--fill-color);\n",
              "    animation:\n",
              "      spin 1s steps(1) infinite;\n",
              "  }\n",
              "\n",
              "  @keyframes spin {\n",
              "    0% {\n",
              "      border-color: transparent;\n",
              "      border-bottom-color: var(--fill-color);\n",
              "      border-left-color: var(--fill-color);\n",
              "    }\n",
              "    20% {\n",
              "      border-color: transparent;\n",
              "      border-left-color: var(--fill-color);\n",
              "      border-top-color: var(--fill-color);\n",
              "    }\n",
              "    30% {\n",
              "      border-color: transparent;\n",
              "      border-left-color: var(--fill-color);\n",
              "      border-top-color: var(--fill-color);\n",
              "      border-right-color: var(--fill-color);\n",
              "    }\n",
              "    40% {\n",
              "      border-color: transparent;\n",
              "      border-right-color: var(--fill-color);\n",
              "      border-top-color: var(--fill-color);\n",
              "    }\n",
              "    60% {\n",
              "      border-color: transparent;\n",
              "      border-right-color: var(--fill-color);\n",
              "    }\n",
              "    80% {\n",
              "      border-color: transparent;\n",
              "      border-right-color: var(--fill-color);\n",
              "      border-bottom-color: var(--fill-color);\n",
              "    }\n",
              "    90% {\n",
              "      border-color: transparent;\n",
              "      border-bottom-color: var(--fill-color);\n",
              "    }\n",
              "  }\n",
              "</style>\n",
              "\n",
              "  <script>\n",
              "    async function quickchart(key) {\n",
              "      const quickchartButtonEl =\n",
              "        document.querySelector('#' + key + ' button');\n",
              "      quickchartButtonEl.disabled = true;  // To prevent multiple clicks.\n",
              "      quickchartButtonEl.classList.add('colab-df-spinner');\n",
              "      try {\n",
              "        const charts = await google.colab.kernel.invokeFunction(\n",
              "            'suggestCharts', [key], {});\n",
              "      } catch (error) {\n",
              "        console.error('Error during call to suggestCharts:', error);\n",
              "      }\n",
              "      quickchartButtonEl.classList.remove('colab-df-spinner');\n",
              "      quickchartButtonEl.classList.add('colab-df-quickchart-complete');\n",
              "    }\n",
              "    (() => {\n",
              "      let quickchartButtonEl =\n",
              "        document.querySelector('#df-f8f8bd54-e750-42e5-9d2a-da7788e11e4e button');\n",
              "      quickchartButtonEl.style.display =\n",
              "        google.colab.kernel.accessAllowed ? 'block' : 'none';\n",
              "    })();\n",
              "  </script>\n",
              "</div>\n",
              "    </div>\n",
              "  </div>\n"
            ]
          },
          "metadata": {},
          "execution_count": 27
        }
      ]
    },
    {
      "cell_type": "code",
      "source": [
        "data_uniq_product.info()"
      ],
      "metadata": {
        "colab": {
          "base_uri": "https://localhost:8080/"
        },
        "id": "ZK3aHIuRgeMr",
        "outputId": "7c94e941-8147-4693-9b80-3ed913772c4e"
      },
      "execution_count": 17,
      "outputs": [
        {
          "output_type": "stream",
          "name": "stdout",
          "text": [
            "<class 'pandas.core.frame.DataFrame'>\n",
            "Int64Index: 274915 entries, 0 to 1066836\n",
            "Data columns (total 4 columns):\n",
            " #   Column      Non-Null Count   Dtype  \n",
            "---  ------      --------------   -----  \n",
            " 0   vendor_id   274915 non-null  object \n",
            " 1   product_id  274915 non-null  object \n",
            " 2   name        274915 non-null  object \n",
            " 3   unit_price  274915 non-null  float64\n",
            "dtypes: float64(1), object(3)\n",
            "memory usage: 10.5+ MB\n"
          ]
        }
      ]
    },
    {
      "cell_type": "code",
      "source": [
        "data_uniq_product[\"name\"].value_counts()"
      ],
      "metadata": {
        "colab": {
          "base_uri": "https://localhost:8080/"
        },
        "id": "hUUSSPk6qPzG",
        "outputId": "ab10aa67-527a-433c-b102-c2aac95a6c7a"
      },
      "execution_count": 18,
      "outputs": [
        {
          "output_type": "execute_result",
          "data": {
            "text/plain": [
              "Meat & Seafood Combo 海鲜套餐                   1\n",
              "Insalata Di Cavolo                          1\n",
              "Olive Rice (Most popular)                   1\n",
              "Lychee Sorbet                               1\n",
              "Additional Noodles with Broth               1\n",
              "                                           ..\n",
              "(01-18) Satay beehoon (Small)               1\n",
              "(01-04) Fried Fish Soup                     1\n",
              "(01-29) Pork Ribs w Liver Noodle            1\n",
              "(01-10) Bitter Gourd with Pork Ribs Soup    1\n",
              "Gula Melaka Sago 椰糖西米露                      1\n",
              "Name: name, Length: 274915, dtype: int64"
            ]
          },
          "metadata": {},
          "execution_count": 18
        }
      ]
    },
    {
      "cell_type": "code",
      "source": [
        "df=data_uniq_product.drop(columns=[\"vendor_id\",\"product_id\", \"unit_price\"])"
      ],
      "metadata": {
        "id": "s1ZCv8uiq6sr"
      },
      "execution_count": 19,
      "outputs": []
    },
    {
      "cell_type": "code",
      "source": [
        "df.head(10)"
      ],
      "metadata": {
        "colab": {
          "base_uri": "https://localhost:8080/",
          "height": 363
        },
        "id": "WL2WyeLwuQpc",
        "outputId": "32dc204c-b3d4-40f3-974e-a8465fb99358"
      },
      "execution_count": 20,
      "outputs": [
        {
          "output_type": "execute_result",
          "data": {
            "text/plain": [
              "                                             name\n",
              "0                       Meat & Seafood Combo 海鲜套餐\n",
              "1                      Sausage Egg McMuffin® Meal\n",
              "2             Scrambled Egg Burger w Chicken Meal\n",
              "3                                    Maguro Sushi\n",
              "4  Family Meal - Prosp Chic TwLEVMx2 + ChBurgerHM\n",
              "5                           Deep-fried Squid 炸苏东仔\n",
              "6                   Braised Bean Curd Soup 金汤黄焖鱼腐\n",
              "7                                    Garlic Bread\n",
              "8         Grilled Cheese Abalone and Aburi Salmon\n",
              "9                                      Cappuccino"
            ],
            "text/html": [
              "\n",
              "  <div id=\"df-19162018-87d0-48b7-ba10-451b4abd3264\" class=\"colab-df-container\">\n",
              "    <div>\n",
              "<style scoped>\n",
              "    .dataframe tbody tr th:only-of-type {\n",
              "        vertical-align: middle;\n",
              "    }\n",
              "\n",
              "    .dataframe tbody tr th {\n",
              "        vertical-align: top;\n",
              "    }\n",
              "\n",
              "    .dataframe thead th {\n",
              "        text-align: right;\n",
              "    }\n",
              "</style>\n",
              "<table border=\"1\" class=\"dataframe\">\n",
              "  <thead>\n",
              "    <tr style=\"text-align: right;\">\n",
              "      <th></th>\n",
              "      <th>name</th>\n",
              "    </tr>\n",
              "  </thead>\n",
              "  <tbody>\n",
              "    <tr>\n",
              "      <th>0</th>\n",
              "      <td>Meat &amp; Seafood Combo 海鲜套餐</td>\n",
              "    </tr>\n",
              "    <tr>\n",
              "      <th>1</th>\n",
              "      <td>Sausage Egg McMuffin® Meal</td>\n",
              "    </tr>\n",
              "    <tr>\n",
              "      <th>2</th>\n",
              "      <td>Scrambled Egg Burger w Chicken Meal</td>\n",
              "    </tr>\n",
              "    <tr>\n",
              "      <th>3</th>\n",
              "      <td>Maguro Sushi</td>\n",
              "    </tr>\n",
              "    <tr>\n",
              "      <th>4</th>\n",
              "      <td>Family Meal - Prosp Chic TwLEVMx2 + ChBurgerHM</td>\n",
              "    </tr>\n",
              "    <tr>\n",
              "      <th>5</th>\n",
              "      <td>Deep-fried Squid 炸苏东仔</td>\n",
              "    </tr>\n",
              "    <tr>\n",
              "      <th>6</th>\n",
              "      <td>Braised Bean Curd Soup 金汤黄焖鱼腐</td>\n",
              "    </tr>\n",
              "    <tr>\n",
              "      <th>7</th>\n",
              "      <td>Garlic Bread</td>\n",
              "    </tr>\n",
              "    <tr>\n",
              "      <th>8</th>\n",
              "      <td>Grilled Cheese Abalone and Aburi Salmon</td>\n",
              "    </tr>\n",
              "    <tr>\n",
              "      <th>9</th>\n",
              "      <td>Cappuccino</td>\n",
              "    </tr>\n",
              "  </tbody>\n",
              "</table>\n",
              "</div>\n",
              "    <div class=\"colab-df-buttons\">\n",
              "\n",
              "  <div class=\"colab-df-container\">\n",
              "    <button class=\"colab-df-convert\" onclick=\"convertToInteractive('df-19162018-87d0-48b7-ba10-451b4abd3264')\"\n",
              "            title=\"Convert this dataframe to an interactive table.\"\n",
              "            style=\"display:none;\">\n",
              "\n",
              "  <svg xmlns=\"http://www.w3.org/2000/svg\" height=\"24px\" viewBox=\"0 -960 960 960\">\n",
              "    <path d=\"M120-120v-720h720v720H120Zm60-500h600v-160H180v160Zm220 220h160v-160H400v160Zm0 220h160v-160H400v160ZM180-400h160v-160H180v160Zm440 0h160v-160H620v160ZM180-180h160v-160H180v160Zm440 0h160v-160H620v160Z\"/>\n",
              "  </svg>\n",
              "    </button>\n",
              "\n",
              "  <style>\n",
              "    .colab-df-container {\n",
              "      display:flex;\n",
              "      gap: 12px;\n",
              "    }\n",
              "\n",
              "    .colab-df-convert {\n",
              "      background-color: #E8F0FE;\n",
              "      border: none;\n",
              "      border-radius: 50%;\n",
              "      cursor: pointer;\n",
              "      display: none;\n",
              "      fill: #1967D2;\n",
              "      height: 32px;\n",
              "      padding: 0 0 0 0;\n",
              "      width: 32px;\n",
              "    }\n",
              "\n",
              "    .colab-df-convert:hover {\n",
              "      background-color: #E2EBFA;\n",
              "      box-shadow: 0px 1px 2px rgba(60, 64, 67, 0.3), 0px 1px 3px 1px rgba(60, 64, 67, 0.15);\n",
              "      fill: #174EA6;\n",
              "    }\n",
              "\n",
              "    .colab-df-buttons div {\n",
              "      margin-bottom: 4px;\n",
              "    }\n",
              "\n",
              "    [theme=dark] .colab-df-convert {\n",
              "      background-color: #3B4455;\n",
              "      fill: #D2E3FC;\n",
              "    }\n",
              "\n",
              "    [theme=dark] .colab-df-convert:hover {\n",
              "      background-color: #434B5C;\n",
              "      box-shadow: 0px 1px 3px 1px rgba(0, 0, 0, 0.15);\n",
              "      filter: drop-shadow(0px 1px 2px rgba(0, 0, 0, 0.3));\n",
              "      fill: #FFFFFF;\n",
              "    }\n",
              "  </style>\n",
              "\n",
              "    <script>\n",
              "      const buttonEl =\n",
              "        document.querySelector('#df-19162018-87d0-48b7-ba10-451b4abd3264 button.colab-df-convert');\n",
              "      buttonEl.style.display =\n",
              "        google.colab.kernel.accessAllowed ? 'block' : 'none';\n",
              "\n",
              "      async function convertToInteractive(key) {\n",
              "        const element = document.querySelector('#df-19162018-87d0-48b7-ba10-451b4abd3264');\n",
              "        const dataTable =\n",
              "          await google.colab.kernel.invokeFunction('convertToInteractive',\n",
              "                                                    [key], {});\n",
              "        if (!dataTable) return;\n",
              "\n",
              "        const docLinkHtml = 'Like what you see? Visit the ' +\n",
              "          '<a target=\"_blank\" href=https://colab.research.google.com/notebooks/data_table.ipynb>data table notebook</a>'\n",
              "          + ' to learn more about interactive tables.';\n",
              "        element.innerHTML = '';\n",
              "        dataTable['output_type'] = 'display_data';\n",
              "        await google.colab.output.renderOutput(dataTable, element);\n",
              "        const docLink = document.createElement('div');\n",
              "        docLink.innerHTML = docLinkHtml;\n",
              "        element.appendChild(docLink);\n",
              "      }\n",
              "    </script>\n",
              "  </div>\n",
              "\n",
              "\n",
              "<div id=\"df-8c6f9899-5c6a-4b2a-adda-e556877cba06\">\n",
              "  <button class=\"colab-df-quickchart\" onclick=\"quickchart('df-8c6f9899-5c6a-4b2a-adda-e556877cba06')\"\n",
              "            title=\"Suggest charts\"\n",
              "            style=\"display:none;\">\n",
              "\n",
              "<svg xmlns=\"http://www.w3.org/2000/svg\" height=\"24px\"viewBox=\"0 0 24 24\"\n",
              "     width=\"24px\">\n",
              "    <g>\n",
              "        <path d=\"M19 3H5c-1.1 0-2 .9-2 2v14c0 1.1.9 2 2 2h14c1.1 0 2-.9 2-2V5c0-1.1-.9-2-2-2zM9 17H7v-7h2v7zm4 0h-2V7h2v10zm4 0h-2v-4h2v4z\"/>\n",
              "    </g>\n",
              "</svg>\n",
              "  </button>\n",
              "\n",
              "<style>\n",
              "  .colab-df-quickchart {\n",
              "      --bg-color: #E8F0FE;\n",
              "      --fill-color: #1967D2;\n",
              "      --hover-bg-color: #E2EBFA;\n",
              "      --hover-fill-color: #174EA6;\n",
              "      --disabled-fill-color: #AAA;\n",
              "      --disabled-bg-color: #DDD;\n",
              "  }\n",
              "\n",
              "  [theme=dark] .colab-df-quickchart {\n",
              "      --bg-color: #3B4455;\n",
              "      --fill-color: #D2E3FC;\n",
              "      --hover-bg-color: #434B5C;\n",
              "      --hover-fill-color: #FFFFFF;\n",
              "      --disabled-bg-color: #3B4455;\n",
              "      --disabled-fill-color: #666;\n",
              "  }\n",
              "\n",
              "  .colab-df-quickchart {\n",
              "    background-color: var(--bg-color);\n",
              "    border: none;\n",
              "    border-radius: 50%;\n",
              "    cursor: pointer;\n",
              "    display: none;\n",
              "    fill: var(--fill-color);\n",
              "    height: 32px;\n",
              "    padding: 0;\n",
              "    width: 32px;\n",
              "  }\n",
              "\n",
              "  .colab-df-quickchart:hover {\n",
              "    background-color: var(--hover-bg-color);\n",
              "    box-shadow: 0 1px 2px rgba(60, 64, 67, 0.3), 0 1px 3px 1px rgba(60, 64, 67, 0.15);\n",
              "    fill: var(--button-hover-fill-color);\n",
              "  }\n",
              "\n",
              "  .colab-df-quickchart-complete:disabled,\n",
              "  .colab-df-quickchart-complete:disabled:hover {\n",
              "    background-color: var(--disabled-bg-color);\n",
              "    fill: var(--disabled-fill-color);\n",
              "    box-shadow: none;\n",
              "  }\n",
              "\n",
              "  .colab-df-spinner {\n",
              "    border: 2px solid var(--fill-color);\n",
              "    border-color: transparent;\n",
              "    border-bottom-color: var(--fill-color);\n",
              "    animation:\n",
              "      spin 1s steps(1) infinite;\n",
              "  }\n",
              "\n",
              "  @keyframes spin {\n",
              "    0% {\n",
              "      border-color: transparent;\n",
              "      border-bottom-color: var(--fill-color);\n",
              "      border-left-color: var(--fill-color);\n",
              "    }\n",
              "    20% {\n",
              "      border-color: transparent;\n",
              "      border-left-color: var(--fill-color);\n",
              "      border-top-color: var(--fill-color);\n",
              "    }\n",
              "    30% {\n",
              "      border-color: transparent;\n",
              "      border-left-color: var(--fill-color);\n",
              "      border-top-color: var(--fill-color);\n",
              "      border-right-color: var(--fill-color);\n",
              "    }\n",
              "    40% {\n",
              "      border-color: transparent;\n",
              "      border-right-color: var(--fill-color);\n",
              "      border-top-color: var(--fill-color);\n",
              "    }\n",
              "    60% {\n",
              "      border-color: transparent;\n",
              "      border-right-color: var(--fill-color);\n",
              "    }\n",
              "    80% {\n",
              "      border-color: transparent;\n",
              "      border-right-color: var(--fill-color);\n",
              "      border-bottom-color: var(--fill-color);\n",
              "    }\n",
              "    90% {\n",
              "      border-color: transparent;\n",
              "      border-bottom-color: var(--fill-color);\n",
              "    }\n",
              "  }\n",
              "</style>\n",
              "\n",
              "  <script>\n",
              "    async function quickchart(key) {\n",
              "      const quickchartButtonEl =\n",
              "        document.querySelector('#' + key + ' button');\n",
              "      quickchartButtonEl.disabled = true;  // To prevent multiple clicks.\n",
              "      quickchartButtonEl.classList.add('colab-df-spinner');\n",
              "      try {\n",
              "        const charts = await google.colab.kernel.invokeFunction(\n",
              "            'suggestCharts', [key], {});\n",
              "      } catch (error) {\n",
              "        console.error('Error during call to suggestCharts:', error);\n",
              "      }\n",
              "      quickchartButtonEl.classList.remove('colab-df-spinner');\n",
              "      quickchartButtonEl.classList.add('colab-df-quickchart-complete');\n",
              "    }\n",
              "    (() => {\n",
              "      let quickchartButtonEl =\n",
              "        document.querySelector('#df-8c6f9899-5c6a-4b2a-adda-e556877cba06 button');\n",
              "      quickchartButtonEl.style.display =\n",
              "        google.colab.kernel.accessAllowed ? 'block' : 'none';\n",
              "    })();\n",
              "  </script>\n",
              "</div>\n",
              "    </div>\n",
              "  </div>\n"
            ]
          },
          "metadata": {},
          "execution_count": 20
        }
      ]
    },
    {
      "cell_type": "markdown",
      "source": [
        "### Preprocessing\n"
      ],
      "metadata": {
        "id": "6GTChzrhe3zu"
      }
    },
    {
      "cell_type": "code",
      "source": [
        "def preprocess_text(name):\n",
        "    name = name.replace(\"-\", \"\")\n",
        "    name = name.replace(\"®\", \"\")\n",
        "    name = name.replace(\"&\", \"\")\n",
        "    name = name.replace(\"+\", \"\")\n",
        "    name = name.replace(\"NOTTTT  FOUND\", \"\")\n",
        "    name = re.sub(r\"[^A-Za-z]+\", \" \", name)\n",
        "    name = re.sub(r\"I\\d\\d\\. \", \"\", name)\n",
        "    name = re.sub(\"(^.+\\. )\", \"\", name)\n",
        "    name = re.sub(\"([\\(\\[]).*?([\\)\\]])\", \"\", name)\n",
        "    name = re.sub('\\$(.*)', \"\", name)\n",
        "    name = re.sub(\"\\s+\", \" \", name)\n",
        "    name = name.lower().strip()\n",
        "    return name"
      ],
      "metadata": {
        "id": "9-_b8B6Zchc0"
      },
      "execution_count": 34,
      "outputs": []
    },
    {
      "cell_type": "code",
      "source": [
        "name_processed = [preprocess_text(q) for q in df['name']]\n",
        "name_processed = [q for q in name_processed if len(q) != 0] # remove empty strings after preprocessing"
      ],
      "metadata": {
        "id": "o70ym1v4fAcj"
      },
      "execution_count": 35,
      "outputs": []
    },
    {
      "cell_type": "code",
      "source": [
        "len(name_processed)"
      ],
      "metadata": {
        "colab": {
          "base_uri": "https://localhost:8080/"
        },
        "id": "n9LUa4FeBH2C",
        "outputId": "04c647c1-4efc-4966-97a2-710c960b2abe"
      },
      "execution_count": 111,
      "outputs": [
        {
          "output_type": "execute_result",
          "data": {
            "text/plain": [
              "274684"
            ]
          },
          "metadata": {},
          "execution_count": 111
        }
      ]
    },
    {
      "cell_type": "markdown",
      "source": [
        "### Remove long\n"
      ],
      "metadata": {
        "id": "dA6xeBpI7TUe"
      }
    },
    {
      "cell_type": "code",
      "source": [
        "q_lengths = [len(q) for q in name_processed]"
      ],
      "metadata": {
        "id": "FB0BpDLg7WiW"
      },
      "execution_count": 37,
      "outputs": []
    },
    {
      "cell_type": "code",
      "source": [
        "sns.distplot(q_lengths)"
      ],
      "metadata": {
        "colab": {
          "base_uri": "https://localhost:8080/",
          "height": 649
        },
        "id": "nqM5zrN77f0I",
        "outputId": "339c8c1d-e496-494d-ee19-129ef3f2673a"
      },
      "execution_count": 38,
      "outputs": [
        {
          "output_type": "stream",
          "name": "stderr",
          "text": [
            "<ipython-input-38-89f6e082e638>:1: UserWarning: \n",
            "\n",
            "`distplot` is a deprecated function and will be removed in seaborn v0.14.0.\n",
            "\n",
            "Please adapt your code to use either `displot` (a figure-level function with\n",
            "similar flexibility) or `histplot` (an axes-level function for histograms).\n",
            "\n",
            "For a guide to updating your code to use the new functions, please see\n",
            "https://gist.github.com/mwaskom/de44147ed2974457ad6372750bbe5751\n",
            "\n",
            "  sns.distplot(q_lengths)\n"
          ]
        },
        {
          "output_type": "execute_result",
          "data": {
            "text/plain": [
              "<Axes: ylabel='Density'>"
            ]
          },
          "metadata": {},
          "execution_count": 38
        },
        {
          "output_type": "display_data",
          "data": {
            "text/plain": [
              "<Figure size 640x480 with 1 Axes>"
            ],
            "image/png": "[encoded data removed]"
          },
          "metadata": {}
        }
      ]
    },
    {
      "cell_type": "code",
      "source": [
        "mean = np.mean(q_lengths)\n",
        "std = np.std(q_lengths)\n",
        "print(f\"mean: {mean}, std: {std}\")"
      ],
      "metadata": {
        "colab": {
          "base_uri": "https://localhost:8080/"
        },
        "id": "VjP79W6B7qIc",
        "outputId": "cb07241e-849f-41f6-80c7-e3912a3aef25"
      },
      "execution_count": 39,
      "outputs": [
        {
          "output_type": "stream",
          "name": "stdout",
          "text": [
            "mean: 21.83599700018931, std: 11.114757558375876\n"
          ]
        }
      ]
    },
    {
      "cell_type": "code",
      "source": [
        "optimum_length = int(mean + std)\n",
        "print(f\"optimum length: {optimum_length}\")"
      ],
      "metadata": {
        "colab": {
          "base_uri": "https://localhost:8080/"
        },
        "id": "Oyb-zJKN7rnz",
        "outputId": "11f5cd3e-c192-4995-b84e-a1df15b17cde"
      },
      "execution_count": 40,
      "outputs": [
        {
          "output_type": "stream",
          "name": "stdout",
          "text": [
            "optimum length: 32\n"
          ]
        }
      ]
    },
    {
      "cell_type": "code",
      "source": [
        "name_short = [q for q in name_processed if len(q) <= optimum_length]"
      ],
      "metadata": {
        "id": "30j3w4Nh7vBS"
      },
      "execution_count": 41,
      "outputs": []
    },
    {
      "cell_type": "markdown",
      "source": [
        "### Shuffle Data"
      ],
      "metadata": {
        "id": "Sx8nd8fo7_Ox"
      }
    },
    {
      "cell_type": "code",
      "source": [
        "import random\n",
        "random.seed(42)\n",
        "random.shuffle(name_short)"
      ],
      "metadata": {
        "id": "G3BbjJVH72a6"
      },
      "execution_count": 42,
      "outputs": []
    },
    {
      "cell_type": "markdown",
      "source": [
        "### Create Dataset and Dataloader"
      ],
      "metadata": {
        "id": "5zl_eH4t8u5Y"
      }
    },
    {
      "cell_type": "markdown",
      "source": [
        "\n",
        "Here we create the vocab, encode as char indices, and perform one-hot encoding and padding"
      ],
      "metadata": {
        "id": "nsPufRK38iCP"
      }
    },
    {
      "cell_type": "code",
      "source": [
        "class NameDataset(Dataset):\n",
        "    def __init__(self, name, vocab, sos_token, eos_token, batch_first=False):\n",
        "\n",
        "        # initialize parameters\n",
        "        self.sos_idx = 0\n",
        "        self.eos_idx = 1\n",
        "        self.int2char = {self.sos_idx: sos_token, self.eos_idx: eos_token} # insert start of sentence and end of sentence tokens\n",
        "        self.int2char.update({idx: char for idx, char in enumerate(vocab, start=self.eos_idx+1)})\n",
        "        self.char2int = {char: idx for idx, char in self.int2char.items()}\n",
        "        self.n_chars = len(self.int2char)\n",
        "\n",
        "        # encode and pad name\n",
        "        self.name_encoded = pad_sequence([self.encode_question(q) for q in name], \\\n",
        "                                              batch_first=batch_first)\n",
        "\n",
        "    def __len__(self):\n",
        "        return len(self.name_encoded)\n",
        "\n",
        "    def __getitem__(self, idx):\n",
        "        return self.name_encoded[idx]\n",
        "\n",
        "    def encode_question(self, question):\n",
        "        '''\n",
        "        encode as char indices and perform one-hot encoding\n",
        "        '''\n",
        "        name_encoded = [self.sos_idx] # append sos\n",
        "        for char in question:\n",
        "            name_encoded.append(self.char2int[char])\n",
        "        name_encoded.append(self.eos_idx) # append eos\n",
        "        return F.one_hot(torch.tensor(name_encoded, dtype=torch.long), self.n_chars).float()"
      ],
      "metadata": {
        "id": "9lWcAFSf8wer"
      },
      "execution_count": 43,
      "outputs": []
    },
    {
      "cell_type": "code",
      "source": [
        "vocab = sorted(set(\"\".join(name_short)))\n",
        "sos_token = '['\n",
        "eos_token = ']'\n",
        "BATCH_FIRST=True\n",
        "BATCH_SIZE=512\n",
        "device = torch.device(\"cuda\" if torch.cuda.is_available() else \"cpu\")"
      ],
      "metadata": {
        "id": "f5L0b-lf9UXo"
      },
      "execution_count": 44,
      "outputs": []
    },
    {
      "cell_type": "markdown",
      "source": [
        "### Create train and val set"
      ],
      "metadata": {
        "id": "9PWOXbPp9cxY"
      }
    },
    {
      "cell_type": "code",
      "source": [
        "val_percent = 0.2\n",
        "n_val = int(val_percent * len(name_short))\n",
        "n_train = len(name_short) - n_val\n",
        "print(f\"train: {n_train}, val: {n_val}\")"
      ],
      "metadata": {
        "colab": {
          "base_uri": "https://localhost:8080/"
        },
        "id": "90-Vuq6O9f01",
        "outputId": "c04b6aa2-8e82-4fd8-eedd-a1c9068b0692"
      },
      "execution_count": 47,
      "outputs": [
        {
          "output_type": "stream",
          "name": "stdout",
          "text": [
            "train: 189692, val: 47423\n"
          ]
        }
      ]
    },
    {
      "cell_type": "code",
      "source": [
        "name_train = name_short[:n_train]\n",
        "name_val = name_short[n_train:]"
      ],
      "metadata": {
        "id": "Eq9Uz5Zk9fYl"
      },
      "execution_count": 48,
      "outputs": []
    },
    {
      "cell_type": "code",
      "source": [
        "train_dataset = NameDataset(name_train, vocab, sos_token, eos_token, batch_first=BATCH_FIRST)\n",
        "val_dataset = NameDataset(name_val, vocab, sos_token, eos_token, batch_first=BATCH_FIRST)\n",
        "\n",
        "train_dataloader = DataLoader(train_dataset, batch_size=BATCH_SIZE, shuffle=True)\n",
        "val_dataloader = DataLoader(val_dataset, batch_size=BATCH_SIZE, shuffle=True)"
      ],
      "metadata": {
        "id": "KokA5KK_9zO1"
      },
      "execution_count": 49,
      "outputs": []
    },
    {
      "cell_type": "code",
      "source": [
        "assert train_dataset.n_chars == val_dataset.n_chars"
      ],
      "metadata": {
        "id": "T0LYtr2RBrGq"
      },
      "execution_count": 50,
      "outputs": []
    },
    {
      "cell_type": "markdown",
      "source": [
        "## Data Science"
      ],
      "metadata": {
        "id": "DBrSxRMeuXOt"
      }
    },
    {
      "cell_type": "markdown",
      "source": [
        "### Define Model"
      ],
      "metadata": {
        "id": "_gOjUY8hSrcu"
      }
    },
    {
      "cell_type": "code",
      "source": [
        "class charRNN(nn.Module):\n",
        "\n",
        "    def __init__(self, VOCAB_SIZE, HIDDEN_SIZE, N_LAYERS=2, P_DROPOUT=0.5, batch_first=False):\n",
        "        super().__init__()\n",
        "        self.HIDDEN_SIZE = HIDDEN_SIZE\n",
        "        self.N_LAYERS = N_LAYERS\n",
        "        self.lstm = nn.LSTM(VOCAB_SIZE, HIDDEN_SIZE, batch_first=batch_first,\n",
        "                            dropout=P_DROPOUT, num_layers=N_LAYERS)\n",
        "        self.dropout = nn.Dropout(P_DROPOUT)\n",
        "        self.fc = nn.Linear(HIDDEN_SIZE, VOCAB_SIZE)\n",
        "\n",
        "    def forward(self, inputs, hidden):\n",
        "        lstm_out, hidden = self.lstm(inputs, hidden)\n",
        "\n",
        "        # flatten the lstm output\n",
        "        lstm_out = torch.flatten(lstm_out, start_dim=0, end_dim=1)\n",
        "\n",
        "        out = self.dropout(lstm_out)\n",
        "        out = self.fc(out)\n",
        "\n",
        "        return out, hidden\n",
        "\n",
        "    def init_hidden(self, BATCH_SIZE, device):\n",
        "        hidden = (torch.zeros((self.N_LAYERS, BATCH_SIZE, self.HIDDEN_SIZE), dtype=torch.float32).to(device),\n",
        "                  torch.zeros((self.N_LAYERS, BATCH_SIZE, self.HIDDEN_SIZE), dtype=torch.float32).to(device))\n",
        "        return hidden"
      ],
      "metadata": {
        "id": "DvIdwcCIBwzU"
      },
      "execution_count": 51,
      "outputs": []
    },
    {
      "cell_type": "code",
      "source": [
        "VOCAB_SIZE=train_dataset.n_chars\n",
        "HIDDEN_SIZE=512\n",
        "N_LAYERS=3\n",
        "P_DROPOUT = 0.4"
      ],
      "metadata": {
        "id": "wd8L3I56B3f8"
      },
      "execution_count": 52,
      "outputs": []
    },
    {
      "cell_type": "code",
      "source": [
        "model = charRNN(VOCAB_SIZE, HIDDEN_SIZE, N_LAYERS, P_DROPOUT, BATCH_FIRST)"
      ],
      "metadata": {
        "id": "vK5nqKYSB8YG"
      },
      "execution_count": 53,
      "outputs": []
    },
    {
      "cell_type": "markdown",
      "source": [
        "### Train the model"
      ],
      "metadata": {
        "id": "YGynUTRDB_dC"
      }
    },
    {
      "cell_type": "code",
      "source": [
        "model.to(device=device)"
      ],
      "metadata": {
        "colab": {
          "base_uri": "https://localhost:8080/"
        },
        "id": "jcsyhLJJB9Lg",
        "outputId": "89c9760e-5a0a-4482-ba93-6f7563e69180"
      },
      "execution_count": 54,
      "outputs": [
        {
          "output_type": "execute_result",
          "data": {
            "text/plain": [
              "charRNN(\n",
              "  (lstm): LSTM(29, 512, num_layers=3, batch_first=True, dropout=0.4)\n",
              "  (dropout): Dropout(p=0.4, inplace=False)\n",
              "  (fc): Linear(in_features=512, out_features=29, bias=True)\n",
              ")"
            ]
          },
          "metadata": {},
          "execution_count": 54
        }
      ]
    },
    {
      "cell_type": "code",
      "source": [
        "n_epochs = 6\n",
        "optimizer = optim.Adam(model.parameters())\n",
        "loss = nn.CrossEntropyLoss()\n",
        "clip = 5\n",
        "\n",
        "save_dir = \"./saved_models\"\n",
        "save_epoch = 5"
      ],
      "metadata": {
        "id": "KPAxlKlHCEy-"
      },
      "execution_count": 76,
      "outputs": []
    },
    {
      "cell_type": "code",
      "source": [
        "import os\n",
        "from tqdm import tqdm"
      ],
      "metadata": {
        "id": "ijicXW-UCJd7"
      },
      "execution_count": 60,
      "outputs": []
    },
    {
      "cell_type": "code",
      "source": [
        "train_loss_list = []\n",
        "val_loss_list = []\n",
        "\n",
        "for epoch in tqdm(range(1, n_epochs+1)):\n",
        "\n",
        "    # training\n",
        "    # -------------\n",
        "\n",
        "    n_batches_train = 0\n",
        "    cummulative_loss_train = 0\n",
        "\n",
        "    model.train()\n",
        "\n",
        "    # initialize hidden state\n",
        "    hidden = model.init_hidden(BATCH_SIZE, device)\n",
        "\n",
        "    for data_batch in train_dataloader:\n",
        "\n",
        "        # detach hidden state\n",
        "        hidden = tuple([h.detach() for h in hidden])\n",
        "\n",
        "        if data_batch.shape[0] != BATCH_SIZE:\n",
        "            continue\n",
        "\n",
        "        # get data\n",
        "        labels, targets = data_batch[:, :-1, :].to(device), data_batch[:, 1:, :].to(device)\n",
        "        # get predictions\n",
        "        preds, hidden = model(labels, hidden)\n",
        "        # compute loss\n",
        "        target_idx = torch.argmax(targets, dim=2).long()\n",
        "        target_flatten = torch.flatten(target_idx, start_dim=0, end_dim=1)\n",
        "        train_loss = loss(preds, target_flatten)\n",
        "\n",
        "        # backpropagation\n",
        "        optimizer.zero_grad()\n",
        "        train_loss.backward()\n",
        "\n",
        "        # clip the gradient before updating the weights\n",
        "        clip_grad_norm_(model.parameters(), clip)\n",
        "        optimizer.step()\n",
        "\n",
        "        n_batches_train += 1\n",
        "        cummulative_loss_train += train_loss.item()\n",
        "\n",
        "    loss_per_epoch_train = cummulative_loss_train / n_batches_train\n",
        "    train_loss_list.append(loss_per_epoch_train)\n",
        "\n",
        "    # validation\n",
        "    # ---------------\n",
        "\n",
        "    n_batches_val = 0\n",
        "    cummulative_loss_val = 0\n",
        "\n",
        "    model.eval()\n",
        "    hidden = model.init_hidden(BATCH_SIZE, device)\n",
        "\n",
        "    for data_batch in val_dataloader:\n",
        "\n",
        "        if data_batch.shape[0] != BATCH_SIZE:\n",
        "            continue\n",
        "\n",
        "        # get data\n",
        "        labels, targets = data_batch[:, :-1, :].to(device), data_batch[:, 1:, :].to(device)\n",
        "        # get predictions\n",
        "        with torch.no_grad():\n",
        "            preds, hidden = model(labels, hidden)\n",
        "            # compute loss\n",
        "            target_idx = torch.argmax(targets, dim=2).long()\n",
        "            target_flatten = torch.flatten(target_idx, start_dim=0, end_dim=1)\n",
        "            val_loss = loss(preds, target_flatten)\n",
        "\n",
        "        n_batches_val += 1\n",
        "        cummulative_loss_val += val_loss.item()\n",
        "\n",
        "    loss_per_epoch_val = cummulative_loss_val / n_batches_val\n",
        "    val_loss_list.append(loss_per_epoch_val)\n",
        "\n",
        "    # # save model every 10 epochs\n",
        "    if epoch % save_epoch == 0:\n",
        "        model_name = f\"charRNN_questions_epoch_{epoch}.pt\"\n",
        "        save_path = os.path.join(save_dir, model_name)\n",
        "        torch.save(model.state_dict(), save_path)"
      ],
      "metadata": {
        "colab": {
          "base_uri": "https://localhost:8080/"
        },
        "id": "o8ZR517zCM_U",
        "outputId": "f4c56a45-8aca-459a-8f90-ca338afed0be"
      },
      "execution_count": 77,
      "outputs": [
        {
          "output_type": "stream",
          "name": "stderr",
          "text": [
            "100%|██████████| 6/6 [06:48<00:00, 68.09s/it]\n"
          ]
        }
      ]
    },
    {
      "cell_type": "markdown",
      "source": [
        "### Plot the curves"
      ],
      "metadata": {
        "id": "67ogbWXlCYJ9"
      }
    },
    {
      "cell_type": "code",
      "source": [
        "fig, axes = plt.subplots(1, 1, figsize=(8, 6))\n",
        "\n",
        "axes.plot(list(range(n_epochs)), train_loss_list, label=\"train loss\")\n",
        "axes.plot(list(range(n_epochs)), val_loss_list, color='orange', label=\"val loss\")\n",
        "\n",
        "axes.set_xlabel(\"Epoch\")\n",
        "axes.set_ylabel(\"Loss\")\n",
        "axes.set_title(\"Train vs Validation loss\")\n",
        "\n",
        "plt.legend()"
      ],
      "metadata": {
        "colab": {
          "base_uri": "https://localhost:8080/",
          "height": 582
        },
        "id": "kD6wZTraCM3p",
        "outputId": "cc61f1a4-b013-47bd-9dae-2b944cf3347a"
      },
      "execution_count": 78,
      "outputs": [
        {
          "output_type": "execute_result",
          "data": {
            "text/plain": [
              "<matplotlib.legend.Legend at 0x78648011a950>"
            ]
          },
          "metadata": {},
          "execution_count": 78
        },
        {
          "output_type": "display_data",
          "data": {
            "text/plain": [
              "<Figure size 800x600 with 1 Axes>"
            ],
            "image/png": "[encoded data removed]"
          },
          "metadata": {}
        }
      ]
    },
    {
      "cell_type": "code",
      "source": [
        "class GenerateText:\n",
        "    def __init__(self, model, k, int2char, char2int, device):\n",
        "        self.int2char = int2char\n",
        "        self.char2int = char2int\n",
        "        self.n_chars = len(int2char)\n",
        "        self.model = model\n",
        "        self.device = device\n",
        "        self.k = k\n",
        "        self.sos_token = self.int2char[0]\n",
        "        self.eos_token = self.int2char[1]\n",
        "\n",
        "    def predict_next_char(self, hidden, input_char):\n",
        "\n",
        "        # encode char\n",
        "        char_one_hot = self.encode_char(input_char)\n",
        "\n",
        "        # get the predictions\n",
        "        with torch.no_grad():\n",
        "            out, hidden = self.model(char_one_hot, hidden)\n",
        "\n",
        "            # convert the output to a character probability distribution\n",
        "            p = F.softmax(out, dim=1)\n",
        "\n",
        "            # move to cpu as numpy doesn't support gpu\n",
        "            p = p.cpu()\n",
        "\n",
        "            # get top k characters from the distribution\n",
        "            values, indices = p.topk(self.k)\n",
        "\n",
        "        indices = indices.squeeze().numpy()\n",
        "        values = values.squeeze().numpy()\n",
        "\n",
        "        # sample any char from the top k chars using the output softmax distribution\n",
        "        char_pred = np.random.choice(indices, size=1, p=values/values.sum())\n",
        "\n",
        "        return self.int2char[char_pred[0]], hidden\n",
        "\n",
        "    def generate_text(self, prime, max_chars=80):\n",
        "\n",
        "        prime = self.sos_token + prime\n",
        "\n",
        "        all_chars = [char for char in prime]\n",
        "        hidden = model.init_hidden(1, self.device)\n",
        "\n",
        "        # build up the hidden state using the initial prime\n",
        "        for char in prime:\n",
        "            char_pred, hidden = self.predict_next_char(hidden, char)\n",
        "\n",
        "        all_chars.append(char_pred)\n",
        "\n",
        "        # generate n chars\n",
        "        c = len(all_chars)\n",
        "        while char_pred != self.eos_token:\n",
        "            if c == max_chars:\n",
        "                break\n",
        "            char_pred, hidden = self.predict_next_char(hidden, all_chars[-1])\n",
        "            all_chars.append(char_pred)\n",
        "            c += 1\n",
        "\n",
        "        return \"\".join(all_chars)\n",
        "\n",
        "    def encode_char(self, char):\n",
        "        char_int = self.char2int[char]\n",
        "        char_one_hot = F.one_hot(torch.tensor(char_int), self.n_chars).float()\n",
        "        return char_one_hot.unsqueeze(0).unsqueeze(0).to(self.device)"
      ],
      "metadata": {
        "id": "z350O9IQCMwF"
      },
      "execution_count": 79,
      "outputs": []
    },
    {
      "cell_type": "code",
      "source": [
        "k = 3"
      ],
      "metadata": {
        "id": "GfdEcsRBhorN"
      },
      "execution_count": 64,
      "outputs": []
    },
    {
      "cell_type": "code",
      "source": [
        "text_generator = GenerateText(model, k, train_dataset.int2char, train_dataset.char2int, device)"
      ],
      "metadata": {
        "id": "QunrLlDLhsaH"
      },
      "execution_count": 80,
      "outputs": []
    },
    {
      "cell_type": "code",
      "source": [
        "text_generator.generate_text('sushi', max_chars=optimum_length)"
      ],
      "metadata": {
        "colab": {
          "base_uri": "https://localhost:8080/",
          "height": 36
        },
        "id": "vWJ8QXX-hxq6",
        "outputId": "aaf805e3-eeb1-42a4-a064-0e455de42dab"
      },
      "execution_count": 86,
      "outputs": [
        {
          "output_type": "execute_result",
          "data": {
            "text/plain": [
              "'[sushi mini combo]'"
            ],
            "application/vnd.google.colaboratory.intrinsic+json": {
              "type": "string"
            }
          },
          "metadata": {},
          "execution_count": 86
        }
      ]
    },
    {
      "cell_type": "code",
      "source": [
        "text_generator.generate_text('fish', max_chars=optimum_length)"
      ],
      "metadata": {
        "colab": {
          "base_uri": "https://localhost:8080/",
          "height": 36
        },
        "id": "yXEUl-eyh_QW",
        "outputId": "b8383dc9-2b9a-492d-a394-dc809be8162e"
      },
      "execution_count": 96,
      "outputs": [
        {
          "output_type": "execute_result",
          "data": {
            "text/plain": [
              "'[fish curry rice]'"
            ],
            "application/vnd.google.colaboratory.intrinsic+json": {
              "type": "string"
            }
          },
          "metadata": {},
          "execution_count": 96
        }
      ]
    },
    {
      "cell_type": "code",
      "source": [
        "text_generator.generate_text('cap', max_chars=optimum_length)"
      ],
      "metadata": {
        "colab": {
          "base_uri": "https://localhost:8080/",
          "height": 36
        },
        "id": "XCJ-1n-NiKMl",
        "outputId": "505bed32-ee3b-44cb-c756-545fbda3f12c"
      },
      "execution_count": 110,
      "outputs": [
        {
          "output_type": "execute_result",
          "data": {
            "text/plain": [
              "'[cappuccino super]'"
            ],
            "application/vnd.google.colaboratory.intrinsic+json": {
              "type": "string"
            }
          },
          "metadata": {},
          "execution_count": 110
        }
      ]
    },
    {
      "cell_type": "code",
      "source": [],
      "metadata": {
        "id": "5QEXQwEwXq96"
      },
      "execution_count": 105,
      "outputs": []
    },
    {
      "cell_type": "code",
      "source": [],
      "metadata": {
        "id": "4ihBENHPPiBH"
      },
      "execution_count": null,
      "outputs": []
    }
  ]
}